{
  "nbformat": 4,
  "nbformat_minor": 0,
  "metadata": {
    "colab": {
      "name": "Untitled5.ipynb",
      "provenance": [],
      "collapsed_sections": [],
      "authorship_tag": "ABX9TyMFIMBfUu6yOuhpN6nij44G",
      "include_colab_link": true
    },
    "kernelspec": {
      "name": "python3",
      "display_name": "Python 3"
    }
  },
  "cells": [
    {
      "cell_type": "markdown",
      "metadata": {
        "id": "view-in-github",
        "colab_type": "text"
      },
      "source": [
        "<a href=\"https://colab.research.google.com/github/MadhavanTR/Kalman-Estimation/blob/master/Trial3.ipynb\" target=\"_parent\"><img src=\"https://colab.research.google.com/assets/colab-badge.svg\" alt=\"Open In Colab\"/></a>"
      ]
    },
    {
      "cell_type": "code",
      "metadata": {
        "id": "Rk03emeV0hM7",
        "colab_type": "code",
        "colab": {}
      },
      "source": [
        "import numpy as np\n",
        "from scipy import signal\n",
        "np.random.seed(1992)\n",
        "NumSteps = 201\n",
        "TimeScale = np.linspace(0,10,NumSteps)\n",
        "DeltaSim = np.diff(TimeScale)[0]\n",
        "SigmaInput = 1\n",
        "SigmaNoise = 0.5\n",
        "F = np.array([[1,0,DeltaSim,0],[0,1,0,DeltaSim],[0,0,1,0],[0,0,0,1]])\n",
        "Q = SigmaInput**2 * np.array([[DeltaSim**3/3,0,DeltaSim**2/2,0],\n",
        "[0,DeltaSim**3/3,0,DeltaSim**2/2],\n",
        "[DeltaSim**2/2,0,DeltaSim,0],\n",
        "[0,DeltaSim**2/2,0,DeltaSim]])\n",
        "H = np.array([[1,0,0,0],[0,1,0,0]])\n",
        "R = SigmaNoise**2 * np.identity(2)\n",
        "State = np.zeros((4,NumSteps))\n",
        "NoisyMeasurements = np.zeros((2,NumSteps))\n",
        "for t in np.arange(1,NumSteps):\n",
        "  ProcessNoise = np.squeeze(np.matmul(np.linalg.cholesky(Q),np.random.randn(4,1)))\n",
        "  State[:,t] = np.matmul(F,State[:,t-1]) + ProcessNoise\n",
        "  MeasurementNoise = SigmaNoise * np.squeeze(np.random.randn(2))\n",
        "  NoisyMeasurements[:,t] = np.matmul(H,State[:,t]) + MeasurementNoise\n",
        "StateX1 = State[0,:]\n",
        "StateX2 = State[1,:]\n",
        "DownSampling=2\n",
        "NoisyMeasurements = NoisyMeasurements[:,::DownSampling]\n",
        "MeasurementY1 = NoisyMeasurements[0,:]\n",
        "MeasurementY2 = NoisyMeasurements[1,:]"
      ],
      "execution_count": 0,
      "outputs": []
    },
    {
      "cell_type": "code",
      "metadata": {
        "id": "LvQYATFi1lUL",
        "colab_type": "code",
        "colab": {
          "base_uri": "https://localhost:8080/",
          "height": 301
        },
        "outputId": "2552eb7f-9401-46c8-93f6-2085e6aee745"
      },
      "source": [
        "import matplotlib.pyplot as plt\n",
        "# plt.plot(TimeScale, StateX1)\n",
        "# # np.shape(TimeScale)\n",
        "# plt.plot(TimeScale, StateX2)\n",
        "plt.plot(StateX1, StateX2, label='trajectory')\n",
        "# np.shape(NoisyMeasurements)\n",
        "plt.scatter(NoisyMeasurements[0, :], NoisyMeasurements[1, :], marker='+', color='m', label='measurements')\n",
        "plt.scatter(StateX1[0], StateX2[0], color='r', marker='o', label='start point')\n",
        "plt.scatter(StateX1[-1], StateX2[-1], color='r', marker='s', label='finish point')\n",
        "plt.legend(loc='best', fancybox=True)\n",
        "plt.xlabel(xlabel = \"x_1 coordinate\")\n",
        "plt.ylabel(ylabel = \"x_2 coordinate\")"
      ],
      "execution_count": 7,
      "outputs": [
        {
          "output_type": "execute_result",
          "data": {
            "text/plain": [
              "Text(0, 0.5, 'x_2 coordinate')"
            ]
          },
          "metadata": {
            "tags": []
          },
          "execution_count": 7
        },
        {
          "output_type": "display_data",
          "data": {
            "image/png": "[encoded data removed]",
            "text/plain": [
              "<Figure size 432x288 with 1 Axes>"
            ]
          },
          "metadata": {
            "tags": [],
            "needs_background": "light"
          }
        }
      ]
    },
    {
      "cell_type": "code",
      "metadata": {
        "id": "T52mBN2R2WaZ",
        "colab_type": "code",
        "colab": {}
      },
      "source": [
        "from numpy.linalg import inv\n",
        "NumSteps = 101\n",
        "TimeScale = np.linspace(0,10,NumSteps)\n",
        "DeltaSim = np.diff(TimeScale)[0]\n",
        "SigmaNoise = 0.5\n",
        "Q = SigmaInput**2 * np.array([[DeltaSim**3/3,0,DeltaSim**2/2,0],\n",
        "[0,DeltaSim**3/3,0,DeltaSim**2/2],\n",
        "[DeltaSim**2/2,0,DeltaSim,0],\n",
        "[0,DeltaSim**2/2,0,DeltaSim]])\n",
        "R = SigmaNoise**2 * np.identity(2)\n",
        "\n",
        "xp=np.zeros((4, 1))\n",
        "Pp=np.identity(4)\n",
        "xu_array=np.array([])\n",
        "xp_array=np.array([])\n",
        "\n",
        "# First Update\n",
        "i=0\n",
        "K=np.dot(np.dot(Pp, H.T), inv(np.dot(np.dot(H, Pp), H.T) + R))\n",
        "Pp=Pp - np.dot(K, np.dot(H, Pp))\n",
        "xp=xp + np.dot(K, (np.reshape(NoisyMeasurements[:, 0], (2, 1)) - np.dot(H, xp)))\n",
        "xu_array=np.append(xu_array, xp)\n",
        "\n",
        "i=i+1\n",
        "for i in range(1, 101):\n",
        "  # Prediction\n",
        "  Pp=np.dot(F, np.dot(Pp, F.T)) + Q\n",
        "  xp=np.dot(F, xp)\n",
        "  xp_array=np.append(xp_array, xp)\n",
        "  # Update\n",
        "  K=np.dot(np.dot(Pp, H.T), inv(np.dot(np.dot(H, Pp), H.T) + R))\n",
        "  Pp=Pp - np.dot(K, np.dot(H, Pp))\n",
        "  xp=xp + np.dot(K, (np.reshape(NoisyMeasurements[:, i], (2, 1)) - np.dot(H, xp)))\n",
        "  xu_array=np.append(xu_array, xp)\n",
        "xp_array=xp_array.reshape(-1, 4).T\n",
        "xu_array=xu_array.reshape(-1, 4).T\n",
        "StateX1p = xp_array[0,:]\n",
        "StateX2p = xp_array[1,:]\n",
        "StateX1u = xu_array[0,:]\n",
        "StateX2u = xu_array[1,:]"
      ],
      "execution_count": 0,
      "outputs": []
    },
    {
      "cell_type": "code",
      "metadata": {
        "id": "2eGF3PlFt0Hk",
        "colab_type": "code",
        "colab": {
          "base_uri": "https://localhost:8080/",
          "height": 301
        },
        "outputId": "c3ab9ec4-0f3b-4e7d-966e-ceaa1734711d"
      },
      "source": [
        "import matplotlib.pyplot as plt\n",
        "# plt.plot(TimeScale, StateX1)\n",
        "# # np.shape(TimeScale)\n",
        "# plt.plot(TimeScale, StateX2)\n",
        "plt.plot(StateX1, StateX2, label='trajectory')\n",
        "plt.plot(StateX1p, StateX2p, label='Predicted Estimation', color='g')\n",
        "plt.plot(StateX1u, StateX2u, label='Updated Estimation', color='r')\n",
        "# np.shape(NoisyMeasurements)\n",
        "plt.scatter(NoisyMeasurements[0, :], NoisyMeasurements[1, :], marker='+', color='m', label='measurements')\n",
        "plt.scatter(StateX1[0], StateX2[0], color='r', marker='o', label='start point')\n",
        "plt.scatter(StateX1[-1], StateX2[-1], color='r', marker='s', label='finish point')\n",
        "plt.legend(loc='best', fancybox=True)\n",
        "plt.xlabel(xlabel = \"x_1 coordinate\")\n",
        "plt.ylabel(ylabel = \"x_2 coordinate\")"
      ],
      "execution_count": 46,
      "outputs": [
        {
          "output_type": "execute_result",
          "data": {
            "text/plain": [
              "Text(0, 0.5, 'x_2 coordinate')"
            ]
          },
          "metadata": {
            "tags": []
          },
          "execution_count": 46
        },
        {
          "output_type": "display_data",
          "data": {
            "image/png": "[encoded data removed]",
            "text/plain": [
              "<Figure size 432x288 with 1 Axes>"
            ]
          },
          "metadata": {
            "tags": [],
            "needs_background": "light"
          }
        }
      ]
    },
    {
      "cell_type": "code",
      "metadata": {
        "id": "FqddXLa7QHLC",
        "colab_type": "code",
        "colab": {
          "base_uri": "https://localhost:8080/",
          "height": 1000
        },
        "outputId": "cf9b0f15-5e6d-4942-dc23-2b3ec2dcb9a9"
      },
      "source": [
        "np.shape(np.reshape(NoisyMeasurements[:, 0], (2, 1)) - np.dot(H, xp))\n",
        "for i in range(1, 5):\n",
        "  print(i)\n",
        "np.shape(NoisyMeasurements)\n",
        "# a=np.array([])\n",
        "# a=np.append(a, 1)\n",
        "# a=np.append(a, 2)\n",
        "# a\n",
        "K=np.dot(np.dot(Pp, H.T), inv(np.dot(np.dot(H, Pp), H.T) + R))\n",
        "np.shape(K)\n",
        "np.shape(xp)\n",
        "np.shape(xp_array)\n",
        "a=xp_array.reshape(-1,4)\n",
        "np.shape(a[:, 1])\n",
        "#a[0,:]\n",
        "xp_array[0]\n",
        "np.shape(State)\n",
        "xp_array"
      ],
      "execution_count": 43,
      "outputs": [
        {
          "output_type": "stream",
          "text": [
            "1\n",
            "2\n",
            "3\n",
            "4\n"
          ],
          "name": "stdout"
        },
        {
          "output_type": "execute_result",
          "data": {
            "text/plain": [
              "array([[ 0.00000000e+00, -6.26843123e-02, -1.78106470e-02,\n",
              "        -1.12519627e-01, -3.08093040e-01, -4.11153640e-01,\n",
              "        -5.70079087e-01, -5.04956063e-01, -4.98993597e-01,\n",
              "        -8.31158367e-01, -7.55144706e-01, -8.03624126e-01,\n",
              "        -8.33704474e-01, -5.65493328e-01, -4.96394688e-01,\n",
              "        -5.86653688e-01, -7.65497209e-01, -8.83801539e-01,\n",
              "        -9.28002285e-01, -1.05970422e+00, -1.06035575e+00,\n",
              "        -1.10024771e+00, -1.05454439e+00, -1.16261515e+00,\n",
              "        -1.10071562e+00, -9.93958066e-01, -8.28602449e-01,\n",
              "        -6.73879317e-01, -5.60887763e-01, -4.72103655e-01,\n",
              "        -3.79390986e-01, -4.72662401e-01, -5.71993670e-01,\n",
              "        -5.42237674e-01, -4.17769867e-01, -1.38719775e-01,\n",
              "         1.52792450e-02,  6.52206403e-02,  4.03101795e-02,\n",
              "         6.29741556e-03,  5.96971528e-02,  3.08372985e-01,\n",
              "         5.15032847e-01,  5.05877607e-01,  4.78525549e-01,\n",
              "         5.62407759e-01,  8.34079201e-01,  8.34952093e-01,\n",
              "         1.14277509e+00,  1.27286768e+00,  1.75035417e+00,\n",
              "         2.01141725e+00,  2.18159185e+00,  2.45109374e+00,\n",
              "         2.63512250e+00,  3.08625413e+00,  3.20293951e+00,\n",
              "         3.16321980e+00,  3.34141708e+00,  3.56473228e+00,\n",
              "         3.74468161e+00,  3.59788535e+00,  3.73475788e+00,\n",
              "         3.87254825e+00,  3.99424632e+00,  3.72646413e+00,\n",
              "         3.76772185e+00,  3.76456607e+00,  3.73412400e+00,\n",
              "         3.89192143e+00,  3.93313382e+00,  3.90373174e+00,\n",
              "         3.71149670e+00,  3.70903870e+00,  3.72744555e+00,\n",
              "         3.44517896e+00,  3.51603276e+00,  3.57774601e+00,\n",
              "         3.52008880e+00,  3.64689003e+00,  3.59579652e+00,\n",
              "         3.44785552e+00,  3.43059981e+00,  3.55618664e+00,\n",
              "         3.70287689e+00,  3.87641117e+00,  3.88698768e+00,\n",
              "         3.98057277e+00,  3.87229050e+00,  3.69482601e+00,\n",
              "         3.60631736e+00,  3.62186290e+00,  3.40284073e+00,\n",
              "         3.46195039e+00,  3.72705854e+00,  3.69639042e+00,\n",
              "         3.93739125e+00,  3.98187396e+00,  4.12740723e+00,\n",
              "         4.25854130e+00],\n",
              "       [ 0.00000000e+00, -2.27916196e-01, -3.71353966e-02,\n",
              "        -2.78844410e-02, -7.99608495e-03,  1.11090760e-01,\n",
              "         1.70508327e-01,  4.22647298e-01,  4.50737201e-01,\n",
              "         4.07882322e-01,  4.79453461e-01,  8.33996994e-01,\n",
              "         1.18014070e+00,  1.14644504e+00,  1.05783902e+00,\n",
              "         1.20298596e+00,  1.58289949e+00,  1.87432069e+00,\n",
              "         2.18304053e+00,  1.90326085e+00,  2.29592755e+00,\n",
              "         2.54324839e+00,  2.92197207e+00,  3.08542578e+00,\n",
              "         3.58639776e+00,  3.65599469e+00,  3.78667081e+00,\n",
              "         4.13919528e+00,  4.24463416e+00,  4.32299127e+00,\n",
              "         4.51495136e+00,  4.65200958e+00,  4.96878679e+00,\n",
              "         4.91737272e+00,  4.92385880e+00,  5.30868164e+00,\n",
              "         5.36349155e+00,  5.52274492e+00,  5.77237410e+00,\n",
              "         6.04893838e+00,  6.17419367e+00,  6.34872521e+00,\n",
              "         6.48513611e+00,  6.61011714e+00,  6.83189269e+00,\n",
              "         7.03330689e+00,  7.09189155e+00,  7.40548371e+00,\n",
              "         7.57028010e+00,  7.84203194e+00,  8.12420682e+00,\n",
              "         8.31109079e+00,  8.66705167e+00,  8.76610054e+00,\n",
              "         9.12360042e+00,  8.84888088e+00,  8.73307010e+00,\n",
              "         8.81234726e+00,  8.86750835e+00,  9.09362747e+00,\n",
              "         9.31578319e+00,  9.44103555e+00,  9.21759442e+00,\n",
              "         9.39000752e+00,  9.47752595e+00,  9.72991307e+00,\n",
              "         9.96872465e+00,  1.00562352e+01,  1.01973075e+01,\n",
              "         1.02003439e+01,  1.03448028e+01,  1.06045795e+01,\n",
              "         1.08426808e+01,  1.07911986e+01,  1.11009216e+01,\n",
              "         1.11621088e+01,  1.13324932e+01,  1.17077124e+01,\n",
              "         1.19530431e+01,  1.22205329e+01,  1.23264365e+01,\n",
              "         1.26420156e+01,  1.27448230e+01,  1.32554208e+01,\n",
              "         1.33791233e+01,  1.36217196e+01,  1.35745632e+01,\n",
              "         1.38432633e+01,  1.37226491e+01,  1.38684527e+01,\n",
              "         1.39099737e+01,  1.39414169e+01,  1.41124974e+01,\n",
              "         1.42710346e+01,  1.43042424e+01,  1.46084959e+01,\n",
              "         1.48004696e+01,  1.48784696e+01,  1.50254016e+01,\n",
              "         1.52202546e+01],\n",
              "       [ 0.00000000e+00, -1.67700227e-02,  1.68025401e-02,\n",
              "        -1.07566414e-01, -4.55449516e-01, -6.33584228e-01,\n",
              "        -9.45352927e-01, -6.58293403e-01, -5.58210123e-01,\n",
              "        -1.33324797e+00, -9.76831585e-01, -9.75947217e-01,\n",
              "        -9.31258698e-01, -1.94833362e-01, -1.35263207e-02,\n",
              "        -2.16731793e-01, -5.93914130e-01, -7.91396347e-01,\n",
              "        -8.01668245e-01, -1.00432760e+00, -8.94830327e-01,\n",
              "        -8.84119500e-01, -6.85464955e-01, -8.48642753e-01,\n",
              "        -6.17744207e-01, -3.12850365e-01,  8.83931632e-02,\n",
              "         4.21812143e-01,  6.25781774e-01,  7.53437340e-01,\n",
              "         8.75675215e-01,  5.71246718e-01,  2.87144266e-01,\n",
              "         3.21352104e-01,  5.62157986e-01,  1.11959967e+00,\n",
              "         1.33733082e+00,  1.29973619e+00,  1.10006094e+00,\n",
              "         9.02349741e-01,  9.20744813e-01,  1.37080125e+00,\n",
              "         1.67755852e+00,  1.47093828e+00,  1.24684979e+00,\n",
              "         1.29468766e+00,  1.75427682e+00,  1.56141052e+00,\n",
              "         2.07167172e+00,  2.13054612e+00,  2.95441832e+00,\n",
              "         3.20614303e+00,  3.22805794e+00,  3.46813845e+00,\n",
              "         3.49172887e+00,  4.10591764e+00,  3.90911945e+00,\n",
              "         3.38680939e+00,  3.40647979e+00,  3.52416988e+00,\n",
              "         3.53247804e+00,  2.81418272e+00,  2.80566186e+00,\n",
              "         2.80012569e+00,  2.75946431e+00,  1.85830794e+00,\n",
              "         1.74357960e+00,  1.54295197e+00,  1.30400234e+00,\n",
              "         1.50965493e+00,  1.43354271e+00,  1.20905236e+00,\n",
              "         6.47849533e-01,  5.70448912e-01,  5.47982821e-01,\n",
              "        -1.39764572e-01,  3.31174894e-02,  1.66501015e-01,\n",
              "         1.99587197e-02,  2.99359630e-01,  1.52641357e-01,\n",
              "        -1.92876276e-01, -2.09781817e-01,  9.24339369e-02,\n",
              "         4.07958939e-01,  7.48064754e-01,  6.88484339e-01,\n",
              "         8.19876799e-01,  4.88344287e-01,  3.99781650e-02,\n",
              "        -1.61033221e-01, -1.08625385e-01, -5.82996840e-01,\n",
              "        -3.86978239e-01,  2.44782362e-01,  1.49488173e-01,\n",
              "         6.68135144e-01,  6.92734106e-01,  9.39028154e-01,\n",
              "         1.12599235e+00],\n",
              "       [ 0.00000000e+00, -6.09747424e-02,  8.13802325e-02,\n",
              "         8.81251721e-02,  1.16443253e-01,  3.67742829e-01,\n",
              "         4.68272345e-01,  1.05246489e+00,  9.89307527e-01,\n",
              "         7.54136815e-01,  8.38732581e-01,  1.60209703e+00,\n",
              "         2.23728824e+00,  1.89674519e+00,  1.47488537e+00,\n",
              "         1.63685211e+00,  2.30603335e+00,  2.69855129e+00,\n",
              "         3.08404124e+00,  2.12407752e+00,  2.75692309e+00,\n",
              "         2.99871126e+00,  3.50421849e+00,  3.47822147e+00,\n",
              "         4.20204657e+00,  3.89081622e+00,  3.74923854e+00,\n",
              "         4.11539764e+00,  3.89271791e+00,  3.63454539e+00,\n",
              "         3.65727105e+00,  3.55552772e+00,  3.86430373e+00,\n",
              "         3.32086869e+00,  2.96641963e+00,  3.49178362e+00,\n",
              "         3.22571613e+00,  3.22120164e+00,  3.41792681e+00,\n",
              "         3.65262370e+00,  3.52519051e+00,  3.52135267e+00,\n",
              "         3.43327702e+00,  3.32959771e+00,  3.45240493e+00,\n",
              "         3.51635381e+00,  3.25598948e+00,  3.59088710e+00,\n",
              "         3.55813309e+00,  3.76655580e+00,  3.97498308e+00,\n",
              "         3.94863135e+00,  4.30071385e+00,  4.04311500e+00,\n",
              "         4.38812401e+00,  3.29070302e+00,  2.66807287e+00,\n",
              "         2.54786142e+00,  2.38743883e+00,  2.62451747e+00,\n",
              "         2.82646681e+00,  2.79077418e+00,  1.98461943e+00,\n",
              "         2.14715220e+00,  2.10309066e+00,  2.43008466e+00,\n",
              "         2.69061664e+00,  2.58618762e+00,  2.61231230e+00,\n",
              "         2.32896723e+00,  2.39117678e+00,  2.70259150e+00,\n",
              "         2.93128506e+00,  2.49143672e+00,  2.90264546e+00,\n",
              "         2.71620894e+00,  2.79299531e+00,  3.31617974e+00,\n",
              "         3.49279223e+00,  3.69900649e+00,  3.52344893e+00,\n",
              "         3.83306195e+00,  3.63574140e+00,  4.36600860e+00,\n",
              "         4.15591287e+00,  4.23320280e+00,  3.65838823e+00,\n",
              "         3.84890151e+00,  3.15361730e+00,  3.12723868e+00,\n",
              "         2.87218431e+00,  2.62307084e+00,  2.71174611e+00,\n",
              "         2.76271640e+00,  2.52967812e+00,  2.92449266e+00,\n",
              "         3.02609838e+00,  2.86329288e+00,  2.87166009e+00,\n",
              "         2.98552731e+00]])"
            ]
          },
          "metadata": {
            "tags": []
          },
          "execution_count": 43
        }
      ]
    }
  ]
}