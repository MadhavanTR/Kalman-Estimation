{
  "nbformat": 4,
  "nbformat_minor": 0,
  "metadata": {
    "colab": {
      "name": "Untitled5.ipynb",
      "provenance": [],
      "collapsed_sections": [],
      "authorship_tag": "ABX9TyMMuAHL9PuRHNPF4prHFzAc",
      "include_colab_link": true
    },
    "kernelspec": {
      "name": "python3",
      "display_name": "Python 3"
    }
  },
  "cells": [
    {
      "cell_type": "markdown",
      "metadata": {
        "id": "view-in-github",
        "colab_type": "text"
      },
      "source": [
        "<a href=\"https://colab.research.google.com/github/MadhavanTR/Kalman-Estimation/blob/master/Trial1.ipynb\" target=\"_parent\"><img src=\"https://colab.research.google.com/assets/colab-badge.svg\" alt=\"Open In Colab\"/></a>"
      ]
    },
    {
      "cell_type": "code",
      "metadata": {
        "id": "Rk03emeV0hM7",
        "colab_type": "code",
        "colab": {}
      },
      "source": [
        "import numpy as np\n",
        "from scipy import signal\n",
        "np.random.seed(1992)\n",
        "NumSteps = 201\n",
        "TimeScale = np.linspace(0,10,NumSteps)\n",
        "DeltaSim = np.diff(TimeScale)[0]\n",
        "SigmaInput = 1\n",
        "SigmaNoise = 0.5\n",
        "F = np.array([[1,0,DeltaSim,0],[0,1,0,DeltaSim],[0,0,1,0],[0,0,0,1]])\n",
        "Q = SigmaInput**2 * np.array([[DeltaSim**3/3,0,DeltaSim**2/2,0],\n",
        "[0,DeltaSim**3/3,0,DeltaSim**2/2],\n",
        "[DeltaSim**2/2,0,DeltaSim,0],\n",
        "[0,DeltaSim**2/2,0,DeltaSim]])\n",
        "H = np.array([[1,0,0,0],[0,1,0,0]])\n",
        "R = SigmaNoise**2 * np.identity(2)\n",
        "State = np.zeros((4,NumSteps))\n",
        "NoisyMeasurements = np.zeros((2,NumSteps))\n",
        "for t in np.arange(1,NumSteps):\n",
        "  ProcessNoise = np.squeeze(np.matmul(np.linalg.cholesky(Q),np.random.randn(4,1)))\n",
        "  State[:,t] = np.matmul(F,State[:,t-1]) + ProcessNoise\n",
        "  MeasurementNoise = SigmaNoise * np.squeeze(np.random.randn(2))\n",
        "  NoisyMeasurements[:,t] = np.matmul(H,State[:,t]) + MeasurementNoise\n",
        "StateX1 = State[0,:]\n",
        "StateX2 = State[1,:]\n",
        "DownSampling=2\n",
        "NoisyMeasurements = NoisyMeasurements[:,::DownSampling]\n",
        "MeasurementY1 = NoisyMeasurements[0,:]\n",
        "MeasurementY2 = NoisyMeasurements[1,:]"
      ],
      "execution_count": 0,
      "outputs": []
    },
    {
      "cell_type": "code",
      "metadata": {
        "id": "LvQYATFi1lUL",
        "colab_type": "code",
        "colab": {}
      },
      "source": [
        "import matplotlib.pyplot as plt\n",
        "# plt.plot(TimeScale, StateX1)\n",
        "# # np.shape(TimeScale)\n",
        "# plt.plot(TimeScale, StateX2)\n",
        "plt.plot(StateX1, StateX2)\n",
        "# np.shape(NoisyMeasurements)\n",
        "plt.scatter(NoisyMeasurements[0, :], NoisyMeasurements[1, :], marker='+', color='m')\n",
        "plt.plot(StateX1[0], StateX2[0], color='r', marker='o')\n",
        "plt.plot(StateX1[end], StateX2[end], color='r', marker='s')"
      ],
      "execution_count": 0,
      "outputs": []
    },
    {
      "cell_type": "code",
      "metadata": {
        "id": "T52mBN2R2WaZ",
        "colab_type": "code",
        "colab": {
          "base_uri": "https://localhost:8080/",
          "height": 34
        },
        "outputId": "0d9e76b0-9d8c-422a-efaa-d2a1b395edfe"
      },
      "source": [
        "np.shape(StateX1)"
      ],
      "execution_count": 9,
      "outputs": [
        {
          "output_type": "execute_result",
          "data": {
            "text/plain": [
              "(201,)"
            ]
          },
          "metadata": {
            "tags": []
          },
          "execution_count": 9
        }
      ]
    }
  ]
}