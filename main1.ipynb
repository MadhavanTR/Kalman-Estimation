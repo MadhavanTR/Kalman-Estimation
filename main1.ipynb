{
  "nbformat": 4,
  "nbformat_minor": 0,
  "metadata": {
    "colab": {
      "name": "Untitled5.ipynb",
      "provenance": [],
      "collapsed_sections": [],
      "authorship_tag": "ABX9TyOmcK0A04Vfj0YGgHf+DC3x",
      "include_colab_link": true
    },
    "kernelspec": {
      "name": "python3",
      "display_name": "Python 3"
    }
  },
  "cells": [
    {
      "cell_type": "markdown",
      "metadata": {
        "id": "view-in-github",
        "colab_type": "text"
      },
      "source": [
        "<a href=\"https://colab.research.google.com/github/MadhavanTR/Kalman-Estimation/blob/master/main1.ipynb\" target=\"_parent\"><img src=\"https://colab.research.google.com/assets/colab-badge.svg\" alt=\"Open In Colab\"/></a>"
      ]
    },
    {
      "cell_type": "code",
      "metadata": {
        "id": "Rk03emeV0hM7",
        "colab_type": "code",
        "colab": {}
      },
      "source": [
        "import numpy as np\n",
        "from scipy import signal\n",
        "np.random.seed(1992)\n",
        "NumSteps = 201\n",
        "TimeScale = np.linspace(0,10,NumSteps)\n",
        "DeltaSim = np.diff(TimeScale)[0]\n",
        "SigmaInput = 1\n",
        "SigmaNoise = 0.5\n",
        "F = np.array([[1,0,DeltaSim,0],[0,1,0,DeltaSim],[0,0,1,0],[0,0,0,1]])\n",
        "Q = SigmaInput**2 * np.array([[DeltaSim**3/3,0,DeltaSim**2/2,0],\n",
        "[0,DeltaSim**3/3,0,DeltaSim**2/2],\n",
        "[DeltaSim**2/2,0,DeltaSim,0],\n",
        "[0,DeltaSim**2/2,0,DeltaSim]])\n",
        "H = np.array([[1,0,0,0],[0,1,0,0]])\n",
        "R = SigmaNoise**2 * np.identity(2)\n",
        "State = np.zeros((4,NumSteps))\n",
        "NoisyMeasurements = np.zeros((2,NumSteps))\n",
        "for t in np.arange(1,NumSteps):\n",
        "  ProcessNoise = np.squeeze(np.matmul(np.linalg.cholesky(Q),np.random.randn(4,1)))\n",
        "  State[:,t] = np.matmul(F,State[:,t-1]) + ProcessNoise\n",
        "  MeasurementNoise = SigmaNoise * np.squeeze(np.random.randn(2))\n",
        "  NoisyMeasurements[:,t] = np.matmul(H,State[:,t]) + MeasurementNoise\n",
        "StateX1 = State[0,:]\n",
        "StateX2 = State[1,:]\n",
        "DownSampling=2\n",
        "NoisyMeasurements = NoisyMeasurements[:,::DownSampling]\n",
        "MeasurementY1 = NoisyMeasurements[0,:]\n",
        "MeasurementY2 = NoisyMeasurements[1,:]"
      ],
      "execution_count": 0,
      "outputs": []
    },
    {
      "cell_type": "code",
      "metadata": {
        "id": "LvQYATFi1lUL",
        "colab_type": "code",
        "colab": {
          "base_uri": "https://localhost:8080/",
          "height": 301
        },
        "outputId": "bffaab5f-6f8a-4140-919e-fc296ffe14e4"
      },
      "source": [
        "import matplotlib.pyplot as plt\n",
        "# plt.plot(TimeScale, StateX1)\n",
        "# # np.shape(TimeScale)\n",
        "# plt.plot(TimeScale, StateX2)\n",
        "plt.plot(StateX1, StateX2, label='trajectory')\n",
        "# np.shape(NoisyMeasurements)\n",
        "plt.scatter(NoisyMeasurements[0, :], NoisyMeasurements[1, :], marker='+', color='m', label='measurements')\n",
        "plt.scatter(StateX1[0], StateX2[0], color='r', marker='o', label='start point')\n",
        "plt.scatter(StateX1[-1], StateX2[-1], color='r', marker='s', label='finish point')\n",
        "plt.legend(loc='best', fancybox=True)\n",
        "plt.xlabel(xlabel = \"x_1 coordinate\")\n",
        "plt.ylabel(ylabel = \"x_2 coordinate\")"
      ],
      "execution_count": 30,
      "outputs": [
        {
          "output_type": "execute_result",
          "data": {
            "text/plain": [
              "Text(0, 0.5, 'x_2 coordinate')"
            ]
          },
          "metadata": {
            "tags": []
          },
          "execution_count": 30
        },
        {
          "output_type": "display_data",
          "data": {
            "image/png": "[encoded data removed]",
            "text/plain": [
              "<Figure size 432x288 with 1 Axes>"
            ]
          },
          "metadata": {
            "tags": [],
            "needs_background": "light"
          }
        }
      ]
    },
    {
      "cell_type": "code",
      "metadata": {
        "id": "T52mBN2R2WaZ",
        "colab_type": "code",
        "colab": {}
      },
      "source": [
        "from numpy.linalg import inv\n",
        "NumSteps = 101\n",
        "TimeScale = np.linspace(0,10,NumSteps)\n",
        "DeltaSim = np.diff(TimeScale)[0]\n",
        "SigmaNoise = 0.5\n",
        "Q = SigmaInput**2 * np.array([[DeltaSim**3/3,0,DeltaSim**2/2,0],\n",
        "[0,DeltaSim**3/3,0,DeltaSim**2/2],\n",
        "[DeltaSim**2/2,0,DeltaSim,0],\n",
        "[0,DeltaSim**2/2,0,DeltaSim]])\n",
        "R = SigmaNoise**2 * np.identity(2)\n",
        "xp=np.zeros((4, 1))\n",
        "Pp=np.identity(4)\n",
        "xu_array=np.array([])\n",
        "xp_array=np.zeros((4, 1))\n",
        "# First Update\n",
        "i=0\n",
        "K=np.dot(np.dot(Pp, H.T), inv(np.dot(np.dot(H, Pp), H.T) + R))\n",
        "Pp=Pp - np.dot(K, np.dot(H, Pp))\n",
        "xp=xp + np.dot(K, (np.reshape(NoisyMeasurements[:, 0], (2, 1)) - np.dot(H, xp)))\n",
        "xu_array=np.append(xu_array, xp)\n",
        "i=i+1\n",
        "for i in range(1, np.shape(NoisyMeasurements)[1]):\n",
        "  # Prediction\n",
        "  Pp=np.dot(F, np.dot(Pp, F.T)) + Q\n",
        "  xp=np.dot(F, xp)\n",
        "  xp_array=np.append(xp_array, xp)\n",
        "  # Update\n",
        "  K=np.dot(np.dot(Pp, H.T), inv(np.dot(np.dot(H, Pp), H.T) + R))\n",
        "  Pp=Pp - np.dot(K, np.dot(H, Pp))\n",
        "  xp=xp + np.dot(K, (np.reshape(NoisyMeasurements[:, i], (2, 1)) - np.dot(H, xp)))\n",
        "  xu_array=np.append(xu_array, xp)\n",
        "xp_array=xp_array.reshape(-1, 4).T\n",
        "xu_array=xu_array.reshape(-1, 4).T\n",
        "StateX1p = xp_array[0,:]\n",
        "StateX2p = xp_array[1,:]\n",
        "StateX1u = xu_array[0,:]\n",
        "StateX2u = xu_array[1,:]"
      ],
      "execution_count": 0,
      "outputs": []
    },
    {
      "cell_type": "code",
      "metadata": {
        "id": "2eGF3PlFt0Hk",
        "colab_type": "code",
        "colab": {
          "base_uri": "https://localhost:8080/",
          "height": 301
        },
        "outputId": "690d5cc9-15ee-4b90-abd0-a2235240d8a9"
      },
      "source": [
        "import matplotlib.pyplot as plt\n",
        "\n",
        "plt.plot(StateX1, StateX2, label='trajectory')\n",
        "plt.plot(StateX1p, StateX2p, label='Predicted Estimation', color='g')\n",
        "#plt.plot(StateX1u, StateX2u, label='Updated Estimation', color='r')\n",
        "plt.scatter(NoisyMeasurements[0, :], NoisyMeasurements[1, :], marker='+', color='m', label='measurements')\n",
        "plt.scatter(StateX1[0], StateX2[0], color='r', marker='o', label='start point')\n",
        "plt.scatter(StateX1[-1], StateX2[-1], color='r', marker='s', label='finish point')\n",
        "plt.legend(loc='best', fancybox=True)\n",
        "plt.xlabel(xlabel = \"x_1 coordinate\")\n",
        "plt.ylabel(ylabel = \"x_2 coordinate\")"
      ],
      "execution_count": 32,
      "outputs": [
        {
          "output_type": "execute_result",
          "data": {
            "text/plain": [
              "Text(0, 0.5, 'x_2 coordinate')"
            ]
          },
          "metadata": {
            "tags": []
          },
          "execution_count": 32
        },
        {
          "output_type": "display_data",
          "data": {
            "image/png": "[encoded data removed]",
            "text/plain": [
              "<Figure size 432x288 with 1 Axes>"
            ]
          },
          "metadata": {
            "tags": [],
            "needs_background": "light"
          }
        }
      ]
    },
    {
      "cell_type": "code",
      "metadata": {
        "id": "oQKEg4wqENs9",
        "colab_type": "code",
        "colab": {
          "base_uri": "https://localhost:8080/",
          "height": 50
        },
        "outputId": "69076848-05c9-44d6-cb93-f6d9d6f939c9"
      },
      "source": [
        "X1=np.array([])\n",
        "X2=np.array([])\n",
        "sum=0\n",
        "MeasurementY1 = NoisyMeasurements[0,:]\n",
        "MeasurementY2 = NoisyMeasurements[1,:]\n",
        "StateX1 = State[0,:]\n",
        "StateX2 = State[1,:]\n",
        "for i in range(0, np.shape(StateX1)[0], 2):\n",
        "  X1=np.append(X1, StateX1[i])\n",
        "  X2=np.append(X2, StateX2[i])\n",
        "for i in range(0, np.shape(X1)[0]):\n",
        "  sum=sum + (MeasurementY1[i]-X1[i])**2 + (MeasurementY2[i]-X2[i])**2\n",
        "rms_meas=sum**(0.5)\n",
        "print('Measurement and original trajectory ', rms_meas)\n",
        "sum=0\n",
        "for i in range(0, np.shape(X1)[0]):\n",
        "  sum=sum + (StateX1p[i]-X1[i])**2 + (StateX2p[i]-X2[i])**2\n",
        "rms_pred=sum**(0.5)\n",
        "print('Estimated and original trajectory ', rms_pred)"
      ],
      "execution_count": 65,
      "outputs": [
        {
          "output_type": "stream",
          "text": [
            "Measurement and original trajectory  7.085174167758085\n",
            "Estimated and original trajectory  3.8742588821941992\n"
          ],
          "name": "stdout"
        }
      ]
    },
    {
      "cell_type": "code",
      "metadata": {
        "id": "FqddXLa7QHLC",
        "colab_type": "code",
        "colab": {
          "base_uri": "https://localhost:8080/",
          "height": 84
        },
        "outputId": "4e714f2b-52f1-4781-cbc4-4814e106f268"
      },
      "source": [
        "np.shape(np.reshape(NoisyMeasurements[:, 0], (2, 1)) - np.dot(H, xp))\n",
        "for i in range(3):\n",
        "  print(i)\n",
        "np.shape(NoisyMeasurements)\n",
        "# a=np.array([])\n",
        "# a=np.append(a, 1)\n",
        "# a=np.append(a, 2)\n",
        "# a\n",
        "K=np.dot(np.dot(Pp, H.T), inv(np.dot(np.dot(H, Pp), H.T) + R))\n",
        "np.shape(K)\n",
        "np.shape(xp)\n",
        "np.shape(xp_array)\n",
        "a=xp_array.reshape(-1,4)\n",
        "np.shape(a[:, 1])\n",
        "#a[0,:]\n",
        "xp_array[0]\n",
        "np.shape(StateX1)\n",
        "np.shape(StateX1p)"
      ],
      "execution_count": 63,
      "outputs": [
        {
          "output_type": "stream",
          "text": [
            "0\n",
            "1\n",
            "2\n"
          ],
          "name": "stdout"
        },
        {
          "output_type": "execute_result",
          "data": {
            "text/plain": [
              "(101,)"
            ]
          },
          "metadata": {
            "tags": []
          },
          "execution_count": 63
        }
      ]
    }
  ]
}